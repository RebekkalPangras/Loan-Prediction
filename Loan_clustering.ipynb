{
  "nbformat": 4,
  "nbformat_minor": 0,
  "metadata": {
    "colab": {
      "name": "Loan-clustering.ipynb",
      "provenance": [],
      "collapsed_sections": [],
      "authorship_tag": "ABX9TyMu4g+SHm+jT0eXasAaJxg9",
      "include_colab_link": true
    },
    "kernelspec": {
      "name": "python3",
      "display_name": "Python 3"
    }
  },
  "cells": [
    {
      "cell_type": "markdown",
      "metadata": {
        "id": "view-in-github",
        "colab_type": "text"
      },
      "source": [
        "<a href=\"https://colab.research.google.com/github/RebekkalPangras/Loan-Prediction/blob/master/Loan_clustering.ipynb\" target=\"_parent\"><img src=\"https://colab.research.google.com/assets/colab-badge.svg\" alt=\"Open In Colab\"/></a>"
      ]
    },
    {
      "cell_type": "code",
      "metadata": {
        "id": "lzUrYZEUzQHV",
        "colab_type": "code",
        "colab": {}
      },
      "source": [
        "\n"
      ],
      "execution_count": 0,
      "outputs": []
    },
    {
      "cell_type": "markdown",
      "metadata": {
        "id": "ZGKk7l7lzrV0",
        "colab_type": "text"
      },
      "source": [
        "## Exploratory Data Anaysis"
      ]
    },
    {
      "cell_type": "markdown",
      "metadata": {
        "id": "xBvCSCukzwGo",
        "colab_type": "text"
      },
      "source": [
        "### 1. Reading the data into a pandas dataframe"
      ]
    },
    {
      "cell_type": "code",
      "metadata": {
        "id": "U54GeVt7zcfM",
        "colab_type": "code",
        "colab": {}
      },
      "source": [
        "import pandas as pd\n",
        "df = pd.read_csv('/content/loan-data-v1.csv')"
      ],
      "execution_count": 0,
      "outputs": []
    },
    {
      "cell_type": "markdown",
      "metadata": {
        "id": "vbgXxsjA1Ccd",
        "colab_type": "text"
      },
      "source": [
        "## 2. Simple EDA"
      ]
    },
    {
      "cell_type": "markdown",
      "metadata": {
        "id": "m1Ay0_t0z2yg",
        "colab_type": "text"
      },
      "source": [
        "### Display first 5 observations"
      ]
    },
    {
      "cell_type": "code",
      "metadata": {
        "id": "hBCsgvaMzpe6",
        "colab_type": "code",
        "colab": {
          "base_uri": "https://localhost:8080/",
          "height": 202
        },
        "outputId": "7a4c4557-df84-4682-ac46-2e33b8ab13f1"
      },
      "source": [
        "df.head(5)"
      ],
      "execution_count": 22,
      "outputs": [
        {
          "output_type": "execute_result",
          "data": {
            "text/html": [
              "<div>\n",
              "<style scoped>\n",
              "    .dataframe tbody tr th:only-of-type {\n",
              "        vertical-align: middle;\n",
              "    }\n",
              "\n",
              "    .dataframe tbody tr th {\n",
              "        vertical-align: top;\n",
              "    }\n",
              "\n",
              "    .dataframe thead th {\n",
              "        text-align: right;\n",
              "    }\n",
              "</style>\n",
              "<table border=\"1\" class=\"dataframe\">\n",
              "  <thead>\n",
              "    <tr style=\"text-align: right;\">\n",
              "      <th></th>\n",
              "      <th>Name</th>\n",
              "      <th>State</th>\n",
              "      <th>Age</th>\n",
              "      <th>Annual Income</th>\n",
              "      <th>Loan Type</th>\n",
              "      <th>Loan Amount</th>\n",
              "      <th>Length of Days</th>\n",
              "      <th>Days Delinquent</th>\n",
              "      <th>Interest Rt</th>\n",
              "      <th>Number of Years</th>\n",
              "      <th>Years as customer</th>\n",
              "    </tr>\n",
              "  </thead>\n",
              "  <tbody>\n",
              "    <tr>\n",
              "      <th>0</th>\n",
              "      <td>Keslie Coll</td>\n",
              "      <td>CO</td>\n",
              "      <td>49</td>\n",
              "      <td>115117</td>\n",
              "      <td>Business</td>\n",
              "      <td>161904</td>\n",
              "      <td>15</td>\n",
              "      <td>117</td>\n",
              "      <td>2.290</td>\n",
              "      <td>2</td>\n",
              "      <td>5</td>\n",
              "    </tr>\n",
              "    <tr>\n",
              "      <th>1</th>\n",
              "      <td>Caesar Shr.</td>\n",
              "      <td>KY</td>\n",
              "      <td>29</td>\n",
              "      <td>181862</td>\n",
              "      <td>Business</td>\n",
              "      <td>74752</td>\n",
              "      <td>10</td>\n",
              "      <td>2</td>\n",
              "      <td>2.350</td>\n",
              "      <td>1</td>\n",
              "      <td>5</td>\n",
              "    </tr>\n",
              "    <tr>\n",
              "      <th>2</th>\n",
              "      <td>Melissa H</td>\n",
              "      <td>FL</td>\n",
              "      <td>43</td>\n",
              "      <td>116011</td>\n",
              "      <td>Home</td>\n",
              "      <td>228342</td>\n",
              "      <td>15</td>\n",
              "      <td>0</td>\n",
              "      <td>4.445</td>\n",
              "      <td>2</td>\n",
              "      <td>6</td>\n",
              "    </tr>\n",
              "    <tr>\n",
              "      <th>3</th>\n",
              "      <td>Marcia B</td>\n",
              "      <td>MT</td>\n",
              "      <td>43</td>\n",
              "      <td>115197</td>\n",
              "      <td>Personal</td>\n",
              "      <td>48059</td>\n",
              "      <td>5</td>\n",
              "      <td>0</td>\n",
              "      <td>4.500</td>\n",
              "      <td>2</td>\n",
              "      <td>4</td>\n",
              "    </tr>\n",
              "    <tr>\n",
              "      <th>4</th>\n",
              "      <td>Yvonne R</td>\n",
              "      <td>MA</td>\n",
              "      <td>77</td>\n",
              "      <td>108991</td>\n",
              "      <td>Home</td>\n",
              "      <td>239937</td>\n",
              "      <td>10</td>\n",
              "      <td>0</td>\n",
              "      <td>4.395</td>\n",
              "      <td>0</td>\n",
              "      <td>2</td>\n",
              "    </tr>\n",
              "  </tbody>\n",
              "</table>\n",
              "</div>"
            ],
            "text/plain": [
              "          Name State  Age  ...   Interest Rt  Number of Years   Years as customer\n",
              "0  Keslie Coll    CO   49  ...         2.290                2                   5\n",
              "1  Caesar Shr.    KY   29  ...         2.350                1                   5\n",
              "2    Melissa H    FL   43  ...         4.445                2                   6\n",
              "3     Marcia B    MT   43  ...         4.500                2                   4\n",
              "4     Yvonne R    MA   77  ...         4.395                0                   2\n",
              "\n",
              "[5 rows x 11 columns]"
            ]
          },
          "metadata": {
            "tags": []
          },
          "execution_count": 22
        }
      ]
    },
    {
      "cell_type": "code",
      "metadata": {
        "id": "7jHf3W1iz968",
        "colab_type": "code",
        "colab": {}
      },
      "source": [
        ""
      ],
      "execution_count": 0,
      "outputs": []
    },
    {
      "cell_type": "markdown",
      "metadata": {
        "id": "6fLMerrDz-ui",
        "colab_type": "text"
      },
      "source": [
        "### Show data type of each column"
      ]
    },
    {
      "cell_type": "code",
      "metadata": {
        "id": "vzQ5_08b0CGP",
        "colab_type": "code",
        "colab": {
          "base_uri": "https://localhost:8080/",
          "height": 329
        },
        "outputId": "bd3bc9e7-e106-4586-860d-ce4a8433f7b2"
      },
      "source": [
        "df.info()"
      ],
      "execution_count": 23,
      "outputs": [
        {
          "output_type": "stream",
          "text": [
            "<class 'pandas.core.frame.DataFrame'>\n",
            "RangeIndex: 21 entries, 0 to 20\n",
            "Data columns (total 11 columns):\n",
            " #   Column              Non-Null Count  Dtype  \n",
            "---  ------              --------------  -----  \n",
            " 0   Name                21 non-null     object \n",
            " 1   State               21 non-null     object \n",
            " 2   Age                 21 non-null     int64  \n",
            " 3   Annual Income       21 non-null     int64  \n",
            " 4    Loan Type          21 non-null     object \n",
            " 5    Loan Amount        21 non-null     int64  \n",
            " 6    Length of Days     21 non-null     int64  \n",
            " 7    Days Delinquent    21 non-null     int64  \n",
            " 8    Interest Rt        21 non-null     float64\n",
            " 9    Number of Years    21 non-null     int64  \n",
            " 10   Years as customer  21 non-null     int64  \n",
            "dtypes: float64(1), int64(7), object(3)\n",
            "memory usage: 1.9+ KB\n"
          ],
          "name": "stdout"
        }
      ]
    },
    {
      "cell_type": "markdown",
      "metadata": {
        "id": "B6yQsn5x0Jfn",
        "colab_type": "text"
      },
      "source": [
        "### Summary of the data"
      ]
    },
    {
      "cell_type": "code",
      "metadata": {
        "id": "TIcBtJAq0DR9",
        "colab_type": "code",
        "colab": {
          "base_uri": "https://localhost:8080/",
          "height": 294
        },
        "outputId": "993f2bbe-57d7-403d-f931-0ca62a6403b1"
      },
      "source": [
        "df.describe()"
      ],
      "execution_count": 24,
      "outputs": [
        {
          "output_type": "execute_result",
          "data": {
            "text/html": [
              "<div>\n",
              "<style scoped>\n",
              "    .dataframe tbody tr th:only-of-type {\n",
              "        vertical-align: middle;\n",
              "    }\n",
              "\n",
              "    .dataframe tbody tr th {\n",
              "        vertical-align: top;\n",
              "    }\n",
              "\n",
              "    .dataframe thead th {\n",
              "        text-align: right;\n",
              "    }\n",
              "</style>\n",
              "<table border=\"1\" class=\"dataframe\">\n",
              "  <thead>\n",
              "    <tr style=\"text-align: right;\">\n",
              "      <th></th>\n",
              "      <th>Age</th>\n",
              "      <th>Annual Income</th>\n",
              "      <th>Loan Amount</th>\n",
              "      <th>Length of Days</th>\n",
              "      <th>Days Delinquent</th>\n",
              "      <th>Interest Rt</th>\n",
              "      <th>Number of Years</th>\n",
              "      <th>Years as customer</th>\n",
              "    </tr>\n",
              "  </thead>\n",
              "  <tbody>\n",
              "    <tr>\n",
              "      <th>count</th>\n",
              "      <td>21.000000</td>\n",
              "      <td>21.000000</td>\n",
              "      <td>21.000000</td>\n",
              "      <td>21.000000</td>\n",
              "      <td>21.000000</td>\n",
              "      <td>21.000000</td>\n",
              "      <td>21.000000</td>\n",
              "      <td>21.000000</td>\n",
              "    </tr>\n",
              "    <tr>\n",
              "      <th>mean</th>\n",
              "      <td>55.476190</td>\n",
              "      <td>98782.428571</td>\n",
              "      <td>258956.571429</td>\n",
              "      <td>17.857143</td>\n",
              "      <td>79.761905</td>\n",
              "      <td>3.525714</td>\n",
              "      <td>1.380952</td>\n",
              "      <td>6.095238</td>\n",
              "    </tr>\n",
              "    <tr>\n",
              "      <th>std</th>\n",
              "      <td>18.151085</td>\n",
              "      <td>53856.209637</td>\n",
              "      <td>216543.460554</td>\n",
              "      <td>9.296697</td>\n",
              "      <td>75.195016</td>\n",
              "      <td>1.069923</td>\n",
              "      <td>1.023533</td>\n",
              "      <td>3.389760</td>\n",
              "    </tr>\n",
              "    <tr>\n",
              "      <th>min</th>\n",
              "      <td>24.000000</td>\n",
              "      <td>20773.000000</td>\n",
              "      <td>48059.000000</td>\n",
              "      <td>5.000000</td>\n",
              "      <td>0.000000</td>\n",
              "      <td>2.290000</td>\n",
              "      <td>0.000000</td>\n",
              "      <td>1.000000</td>\n",
              "    </tr>\n",
              "    <tr>\n",
              "      <th>25%</th>\n",
              "      <td>43.000000</td>\n",
              "      <td>56167.000000</td>\n",
              "      <td>112970.000000</td>\n",
              "      <td>10.000000</td>\n",
              "      <td>0.000000</td>\n",
              "      <td>2.350000</td>\n",
              "      <td>1.000000</td>\n",
              "      <td>4.000000</td>\n",
              "    </tr>\n",
              "    <tr>\n",
              "      <th>50%</th>\n",
              "      <td>50.000000</td>\n",
              "      <td>103598.000000</td>\n",
              "      <td>191666.000000</td>\n",
              "      <td>15.000000</td>\n",
              "      <td>94.000000</td>\n",
              "      <td>4.375000</td>\n",
              "      <td>1.000000</td>\n",
              "      <td>6.000000</td>\n",
              "    </tr>\n",
              "    <tr>\n",
              "      <th>75%</th>\n",
              "      <td>70.000000</td>\n",
              "      <td>116011.000000</td>\n",
              "      <td>291526.000000</td>\n",
              "      <td>30.000000</td>\n",
              "      <td>144.000000</td>\n",
              "      <td>4.445000</td>\n",
              "      <td>2.000000</td>\n",
              "      <td>8.000000</td>\n",
              "    </tr>\n",
              "    <tr>\n",
              "      <th>max</th>\n",
              "      <td>80.000000</td>\n",
              "      <td>198541.000000</td>\n",
              "      <td>776736.000000</td>\n",
              "      <td>30.000000</td>\n",
              "      <td>232.000000</td>\n",
              "      <td>4.500000</td>\n",
              "      <td>3.000000</td>\n",
              "      <td>15.000000</td>\n",
              "    </tr>\n",
              "  </tbody>\n",
              "</table>\n",
              "</div>"
            ],
            "text/plain": [
              "             Age  Annual Income  ...   Number of Years   Years as customer\n",
              "count  21.000000      21.000000  ...         21.000000           21.000000\n",
              "mean   55.476190   98782.428571  ...          1.380952            6.095238\n",
              "std    18.151085   53856.209637  ...          1.023533            3.389760\n",
              "min    24.000000   20773.000000  ...          0.000000            1.000000\n",
              "25%    43.000000   56167.000000  ...          1.000000            4.000000\n",
              "50%    50.000000  103598.000000  ...          1.000000            6.000000\n",
              "75%    70.000000  116011.000000  ...          2.000000            8.000000\n",
              "max    80.000000  198541.000000  ...          3.000000           15.000000\n",
              "\n",
              "[8 rows x 8 columns]"
            ]
          },
          "metadata": {
            "tags": []
          },
          "execution_count": 24
        }
      ]
    },
    {
      "cell_type": "markdown",
      "metadata": {
        "id": "FQ8Xc4mG0Od7",
        "colab_type": "text"
      },
      "source": [
        "### correlation analysis of the data"
      ]
    },
    {
      "cell_type": "code",
      "metadata": {
        "id": "-dajd-Pj0NC2",
        "colab_type": "code",
        "colab": {
          "base_uri": "https://localhost:8080/",
          "height": 294
        },
        "outputId": "199d37fe-195f-4fc5-f247-9f75d0bc0990"
      },
      "source": [
        "df.corr()"
      ],
      "execution_count": 25,
      "outputs": [
        {
          "output_type": "execute_result",
          "data": {
            "text/html": [
              "<div>\n",
              "<style scoped>\n",
              "    .dataframe tbody tr th:only-of-type {\n",
              "        vertical-align: middle;\n",
              "    }\n",
              "\n",
              "    .dataframe tbody tr th {\n",
              "        vertical-align: top;\n",
              "    }\n",
              "\n",
              "    .dataframe thead th {\n",
              "        text-align: right;\n",
              "    }\n",
              "</style>\n",
              "<table border=\"1\" class=\"dataframe\">\n",
              "  <thead>\n",
              "    <tr style=\"text-align: right;\">\n",
              "      <th></th>\n",
              "      <th>Age</th>\n",
              "      <th>Annual Income</th>\n",
              "      <th>Loan Amount</th>\n",
              "      <th>Length of Days</th>\n",
              "      <th>Days Delinquent</th>\n",
              "      <th>Interest Rt</th>\n",
              "      <th>Number of Years</th>\n",
              "      <th>Years as customer</th>\n",
              "    </tr>\n",
              "  </thead>\n",
              "  <tbody>\n",
              "    <tr>\n",
              "      <th>Age</th>\n",
              "      <td>1.000000</td>\n",
              "      <td>-0.034297</td>\n",
              "      <td>0.201133</td>\n",
              "      <td>-0.121062</td>\n",
              "      <td>0.278172</td>\n",
              "      <td>-0.010729</td>\n",
              "      <td>0.148535</td>\n",
              "      <td>-0.299013</td>\n",
              "    </tr>\n",
              "    <tr>\n",
              "      <th>Annual Income</th>\n",
              "      <td>-0.034297</td>\n",
              "      <td>1.000000</td>\n",
              "      <td>0.204414</td>\n",
              "      <td>0.020005</td>\n",
              "      <td>-0.388662</td>\n",
              "      <td>-0.496906</td>\n",
              "      <td>0.232063</td>\n",
              "      <td>-0.534160</td>\n",
              "    </tr>\n",
              "    <tr>\n",
              "      <th>Loan Amount</th>\n",
              "      <td>0.201133</td>\n",
              "      <td>0.204414</td>\n",
              "      <td>1.000000</td>\n",
              "      <td>0.173800</td>\n",
              "      <td>0.200326</td>\n",
              "      <td>-0.255197</td>\n",
              "      <td>0.239046</td>\n",
              "      <td>-0.354015</td>\n",
              "    </tr>\n",
              "    <tr>\n",
              "      <th>Length of Days</th>\n",
              "      <td>-0.121062</td>\n",
              "      <td>0.020005</td>\n",
              "      <td>0.173800</td>\n",
              "      <td>1.000000</td>\n",
              "      <td>0.026055</td>\n",
              "      <td>-0.216618</td>\n",
              "      <td>-0.251470</td>\n",
              "      <td>0.133729</td>\n",
              "    </tr>\n",
              "    <tr>\n",
              "      <th>Days Delinquent</th>\n",
              "      <td>0.278172</td>\n",
              "      <td>-0.388662</td>\n",
              "      <td>0.200326</td>\n",
              "      <td>0.026055</td>\n",
              "      <td>1.000000</td>\n",
              "      <td>-0.036749</td>\n",
              "      <td>-0.184562</td>\n",
              "      <td>0.289627</td>\n",
              "    </tr>\n",
              "    <tr>\n",
              "      <th>Interest Rt</th>\n",
              "      <td>-0.010729</td>\n",
              "      <td>-0.496906</td>\n",
              "      <td>-0.255197</td>\n",
              "      <td>-0.216618</td>\n",
              "      <td>-0.036749</td>\n",
              "      <td>1.000000</td>\n",
              "      <td>-0.152986</td>\n",
              "      <td>0.238690</td>\n",
              "    </tr>\n",
              "    <tr>\n",
              "      <th>Number of Years</th>\n",
              "      <td>0.148535</td>\n",
              "      <td>0.232063</td>\n",
              "      <td>0.239046</td>\n",
              "      <td>-0.251470</td>\n",
              "      <td>-0.184562</td>\n",
              "      <td>-0.152986</td>\n",
              "      <td>1.000000</td>\n",
              "      <td>-0.558604</td>\n",
              "    </tr>\n",
              "    <tr>\n",
              "      <th>Years as customer</th>\n",
              "      <td>-0.299013</td>\n",
              "      <td>-0.534160</td>\n",
              "      <td>-0.354015</td>\n",
              "      <td>0.133729</td>\n",
              "      <td>0.289627</td>\n",
              "      <td>0.238690</td>\n",
              "      <td>-0.558604</td>\n",
              "      <td>1.000000</td>\n",
              "    </tr>\n",
              "  </tbody>\n",
              "</table>\n",
              "</div>"
            ],
            "text/plain": [
              "                         Age  ...   Years as customer\n",
              "Age                 1.000000  ...           -0.299013\n",
              "Annual Income      -0.034297  ...           -0.534160\n",
              " Loan Amount        0.201133  ...           -0.354015\n",
              " Length of Days    -0.121062  ...            0.133729\n",
              " Days Delinquent    0.278172  ...            0.289627\n",
              " Interest Rt       -0.010729  ...            0.238690\n",
              " Number of Years    0.148535  ...           -0.558604\n",
              " Years as customer -0.299013  ...            1.000000\n",
              "\n",
              "[8 rows x 8 columns]"
            ]
          },
          "metadata": {
            "tags": []
          },
          "execution_count": 25
        }
      ]
    },
    {
      "cell_type": "markdown",
      "metadata": {
        "id": "mDVumDc-0VyJ",
        "colab_type": "text"
      },
      "source": [
        "### printing the unique values of column 'loan type'"
      ]
    },
    {
      "cell_type": "code",
      "metadata": {
        "id": "e0nPP4YW0TQy",
        "colab_type": "code",
        "colab": {
          "base_uri": "https://localhost:8080/",
          "height": 34
        },
        "outputId": "e514c475-904c-47a4-eccf-4ac0d9d1faf7"
      },
      "source": [
        "df[' Loan Type'].unique()"
      ],
      "execution_count": 26,
      "outputs": [
        {
          "output_type": "execute_result",
          "data": {
            "text/plain": [
              "array(['Business', 'Home', 'Personal'], dtype=object)"
            ]
          },
          "metadata": {
            "tags": []
          },
          "execution_count": 26
        }
      ]
    },
    {
      "cell_type": "markdown",
      "metadata": {
        "id": "W9E5Ywvh05BN",
        "colab_type": "text"
      },
      "source": [
        "## 3. Data Visualisation"
      ]
    },
    {
      "cell_type": "markdown",
      "metadata": {
        "id": "17sCvIp51IoS",
        "colab_type": "text"
      },
      "source": [
        "### Histogram for Age"
      ]
    },
    {
      "cell_type": "code",
      "metadata": {
        "id": "Z5j2tDFE0jCR",
        "colab_type": "code",
        "colab": {
          "base_uri": "https://localhost:8080/",
          "height": 296
        },
        "outputId": "66b0f7cf-3ee1-4f85-dcd2-faf34d95c93b"
      },
      "source": [
        "import seaborn as sns\n",
        "sns.distplot(df['Age'], bins = 10)"
      ],
      "execution_count": 27,
      "outputs": [
        {
          "output_type": "execute_result",
          "data": {
            "text/plain": [
              "<matplotlib.axes._subplots.AxesSubplot at 0x7f7ed58f9e80>"
            ]
          },
          "metadata": {
            "tags": []
          },
          "execution_count": 27
        },
        {
          "output_type": "display_data",
          "data": {
            "image/png": "[encoded data removed]",
            "text/plain": [
              "<Figure size 432x288 with 1 Axes>"
            ]
          },
          "metadata": {
            "tags": [],
            "needs_background": "light"
          }
        }
      ]
    },
    {
      "cell_type": "markdown",
      "metadata": {
        "id": "0JQvfFYx1qCz",
        "colab_type": "text"
      },
      "source": [
        "### Barplot for Loan Amount"
      ]
    },
    {
      "cell_type": "code",
      "metadata": {
        "id": "i4bzNU9E1fij",
        "colab_type": "code",
        "colab": {
          "base_uri": "https://localhost:8080/",
          "height": 296
        },
        "outputId": "8f5d5ee5-3ddc-45c9-d561-a7ded0a32903"
      },
      "source": [
        "sns.barplot(x=df[' Loan Amount'], y=df[' Loan Type'])"
      ],
      "execution_count": 28,
      "outputs": [
        {
          "output_type": "execute_result",
          "data": {
            "text/plain": [
              "<matplotlib.axes._subplots.AxesSubplot at 0x7f7ed588e9e8>"
            ]
          },
          "metadata": {
            "tags": []
          },
          "execution_count": 28
        },
        {
          "output_type": "display_data",
          "data": {
            "image/png": "[encoded data removed]",
            "text/plain": [
              "<Figure size 432x288 with 1 Axes>"
            ]
          },
          "metadata": {
            "tags": [],
            "needs_background": "light"
          }
        }
      ]
    },
    {
      "cell_type": "markdown",
      "metadata": {
        "id": "_GqdvQhw2Rrc",
        "colab_type": "text"
      },
      "source": [
        "### Box plot for Annual Income by Loan Type"
      ]
    },
    {
      "cell_type": "code",
      "metadata": {
        "id": "tBIyzDeG2GAh",
        "colab_type": "code",
        "colab": {
          "base_uri": "https://localhost:8080/",
          "height": 296
        },
        "outputId": "3551b29f-34aa-4fb8-dc07-9c4bdc00ecb9"
      },
      "source": [
        "sns.boxplot(df['Annual Income'],df[' Loan Type'])"
      ],
      "execution_count": 32,
      "outputs": [
        {
          "output_type": "execute_result",
          "data": {
            "text/plain": [
              "<matplotlib.axes._subplots.AxesSubplot at 0x7f7ed57e2c50>"
            ]
          },
          "metadata": {
            "tags": []
          },
          "execution_count": 32
        },
        {
          "output_type": "display_data",
          "data": {
            "image/png": "[encoded data removed]",
            "text/plain": [
              "<Figure size 432x288 with 1 Axes>"
            ]
          },
          "metadata": {
            "tags": [],
            "needs_background": "light"
          }
        }
      ]
    },
    {
      "cell_type": "markdown",
      "metadata": {
        "id": "EKtYJU7w2x-A",
        "colab_type": "text"
      },
      "source": [
        "### scatterplot for annaul income and loan amount"
      ]
    },
    {
      "cell_type": "code",
      "metadata": {
        "id": "hKUtHTeh2kq-",
        "colab_type": "code",
        "colab": {
          "base_uri": "https://localhost:8080/",
          "height": 297
        },
        "outputId": "b9f692a7-0cbc-4622-b870-285c15ecca03"
      },
      "source": [
        "sns.scatterplot(df['Annual Income'],df[' Loan Amount'])"
      ],
      "execution_count": 33,
      "outputs": [
        {
          "output_type": "execute_result",
          "data": {
            "text/plain": [
              "<matplotlib.axes._subplots.AxesSubplot at 0x7f7ed5828dd8>"
            ]
          },
          "metadata": {
            "tags": []
          },
          "execution_count": 33
        },
        {
          "output_type": "display_data",
          "data": {
            "image/png": "[encoded data removed]",
            "text/plain": [
              "<Figure size 432x288 with 1 Axes>"
            ]
          },
          "metadata": {
            "tags": [],
            "needs_background": "light"
          }
        }
      ]
    },
    {
      "cell_type": "code",
      "metadata": {
        "id": "rc2lEGeW3AGc",
        "colab_type": "code",
        "colab": {
          "base_uri": "https://localhost:8080/",
          "height": 297
        },
        "outputId": "509ae6da-6232-4a6d-d89a-28d1df9f29b0"
      },
      "source": [
        "sns.regplot(df['Annual Income'],df[' Loan Amount'])"
      ],
      "execution_count": 34,
      "outputs": [
        {
          "output_type": "execute_result",
          "data": {
            "text/plain": [
              "<matplotlib.axes._subplots.AxesSubplot at 0x7f7ed569a048>"
            ]
          },
          "metadata": {
            "tags": []
          },
          "execution_count": 34
        },
        {
          "output_type": "display_data",
          "data": {
            "image/png": "[encoded data removed]",
            "text/plain": [
              "<Figure size 432x288 with 1 Axes>"
            ]
          },
          "metadata": {
            "tags": [],
            "needs_background": "light"
          }
        }
      ]
    },
    {
      "cell_type": "markdown",
      "metadata": {
        "id": "nPtT99J23IMO",
        "colab_type": "text"
      },
      "source": [
        "## Statistical Regression Analysis"
      ]
    },
    {
      "cell_type": "markdown",
      "metadata": {
        "id": "v3lHzAU78hUz",
        "colab_type": "text"
      },
      "source": [
        "### 1. Cleaning and Preprocessing data"
      ]
    },
    {
      "cell_type": "markdown",
      "metadata": {
        "id": "cnWPTiSW6eJF",
        "colab_type": "text"
      },
      "source": [
        "### create column Flag based on value of Days delinquent"
      ]
    },
    {
      "cell_type": "code",
      "metadata": {
        "id": "OarzXo3y3Dyi",
        "colab_type": "code",
        "colab": {}
      },
      "source": [
        "def label_flag (row):\n",
        "   if row[' Days Delinquent'] > 90 :\n",
        "      return 1\n",
        "   else:\n",
        "      return 0\n",
        "\n",
        "df['Flag'] = df.apply (lambda row: label_flag(row), axis=1)"
      ],
      "execution_count": 0,
      "outputs": []
    },
    {
      "cell_type": "markdown",
      "metadata": {
        "id": "WJAS76e66jMc",
        "colab_type": "text"
      },
      "source": [
        "### create log_annual_income and log_loan_amount"
      ]
    },
    {
      "cell_type": "code",
      "metadata": {
        "id": "_BybJFpq4V0m",
        "colab_type": "code",
        "colab": {}
      },
      "source": [
        "import numpy as np\n",
        "df['log_annual_income'] = np.log(df['Annual Income'])\n",
        "df['log_loan_amount'] = np.log(df[' Loan Amount'])"
      ],
      "execution_count": 0,
      "outputs": []
    },
    {
      "cell_type": "markdown",
      "metadata": {
        "id": "01AhFzw07kGx",
        "colab_type": "text"
      },
      "source": [
        "### create dummy vaiables for each value of 'Loan Type'"
      ]
    },
    {
      "cell_type": "code",
      "metadata": {
        "id": "ObcVmaLm7c7v",
        "colab_type": "code",
        "colab": {}
      },
      "source": [
        "df = pd.get_dummies(df, prefix = 'LoanType', columns = [' Loan Type'])"
      ],
      "execution_count": 0,
      "outputs": []
    },
    {
      "cell_type": "markdown",
      "metadata": {
        "id": "hVtYEzKz8ZJO",
        "colab_type": "text"
      },
      "source": [
        ""
      ]
    },
    {
      "cell_type": "markdown",
      "metadata": {
        "id": "-pDHncRN8lgO",
        "colab_type": "text"
      },
      "source": [
        "### 2. Building logit regression model"
      ]
    },
    {
      "cell_type": "code",
      "metadata": {
        "id": "ZoD2b79_9QYT",
        "colab_type": "code",
        "colab": {}
      },
      "source": [
        "columns = ['Age','log_annual_income','log_loan_amount','LoanType_Business','LoanType_Home','LoanType_Personal']\n",
        "X = df[columns]\n",
        "y = df['Flag']"
      ],
      "execution_count": 0,
      "outputs": []
    },
    {
      "cell_type": "code",
      "metadata": {
        "id": "-pKam_XR8NZ_",
        "colab_type": "code",
        "colab": {
          "base_uri": "https://localhost:8080/",
          "height": 104
        },
        "outputId": "f0268e04-0e05-43d9-ba85-91277d81e287"
      },
      "source": [
        "import statsmodels.api as sm\n",
        "logit_model=sm.Logit(y,X)\n",
        "result=logit_model.fit()"
      ],
      "execution_count": 52,
      "outputs": [
        {
          "output_type": "stream",
          "text": [
            "Warning: Maximum number of iterations has been exceeded.\n",
            "         Current function value: 0.521612\n",
            "         Iterations: 35\n"
          ],
          "name": "stdout"
        },
        {
          "output_type": "stream",
          "text": [
            "/usr/local/lib/python3.6/dist-packages/statsmodels/base/model.py:512: ConvergenceWarning: Maximum Likelihood optimization failed to converge. Check mle_retvals\n",
            "  \"Check mle_retvals\", ConvergenceWarning)\n"
          ],
          "name": "stderr"
        }
      ]
    },
    {
      "cell_type": "markdown",
      "metadata": {
        "id": "JENTlwtz-FC4",
        "colab_type": "text"
      },
      "source": [
        "### 3. Printing summary of the model"
      ]
    },
    {
      "cell_type": "code",
      "metadata": {
        "id": "zYzFhzbU9zs6",
        "colab_type": "code",
        "colab": {
          "base_uri": "https://localhost:8080/",
          "height": 381
        },
        "outputId": "3b849375-bc8e-46c3-fcac-28743ee9ea52"
      },
      "source": [
        "print(result.summary2())"
      ],
      "execution_count": 53,
      "outputs": [
        {
          "output_type": "stream",
          "text": [
            "                              Results: Logit\n",
            "==========================================================================\n",
            "Model:                  Logit                Pseudo R-squared:     0.246  \n",
            "Dependent Variable:     Flag                 AIC:                  33.9077\n",
            "Date:                   2020-04-29 04:16     BIC:                  40.1748\n",
            "No. Observations:       21                   Log-Likelihood:       -10.954\n",
            "Df Model:               5                    LL-Null:              -14.532\n",
            "Df Residuals:           15                   LLR p-value:          0.20923\n",
            "Converged:              0.0000               Scale:                1.0000 \n",
            "No. Iterations:         35.0000                                           \n",
            "--------------------------------------------------------------------------\n",
            "                   Coef.   Std.Err.     z    P>|z|     [0.025     0.975]  \n",
            "--------------------------------------------------------------------------\n",
            "Age                0.0044     0.0302  0.1464 0.8836     -0.0547     0.0636\n",
            "log_annual_income -2.3376     1.2844 -1.8200 0.0688     -4.8549     0.1797\n",
            "log_loan_amount    0.8400     0.8331  1.0083 0.3133     -0.7928     2.4729\n",
            "LoanType_Business 16.9380    14.3767  1.1782 0.2387    -11.2399    45.1158\n",
            "LoanType_Home     15.7323    13.6135  1.1556 0.2478    -10.9496    42.4142\n",
            "LoanType_Personal -2.8603 33815.9664 -0.0001 0.9999 -66280.9367 66275.2160\n",
            "==========================================================================\n",
            "\n"
          ],
          "name": "stdout"
        }
      ]
    },
    {
      "cell_type": "markdown",
      "metadata": {
        "id": "qQTvH677_ULu",
        "colab_type": "text"
      },
      "source": [
        "### The Pseudo R- Squared value indicated that the model does not fit very well. this can be overcome by increasing the size of the dataset. Value of 1 in Psuedo R-Squared indicated a best fit and 0 indicated worst fit."
      ]
    },
    {
      "cell_type": "markdown",
      "metadata": {
        "id": "pB0mF1UL_qWR",
        "colab_type": "text"
      },
      "source": [
        "## Predictive Analysis with Machine Learning"
      ]
    },
    {
      "cell_type": "markdown",
      "metadata": {
        "id": "F9jpqgmd_0_a",
        "colab_type": "text"
      },
      "source": [
        "### 1. Cluster analysis on log_annual_income and log_loan_amount"
      ]
    },
    {
      "cell_type": "code",
      "metadata": {
        "id": "m6rD0Gq1-Kd9",
        "colab_type": "code",
        "colab": {}
      },
      "source": [
        "from sklearn.cluster import KMeans\n",
        "kmeans_model = KMeans(n_clusters = 2, random_state = 1)\n",
        "cluster_labels = kmeans_model.fit_predict(df[['log_annual_income', 'log_loan_amount']])\n",
        "df['cluster'] = cluster_labels"
      ],
      "execution_count": 0,
      "outputs": []
    },
    {
      "cell_type": "markdown",
      "metadata": {
        "id": "1SydTcrMAr_3",
        "colab_type": "text"
      },
      "source": [
        "### scatterplot"
      ]
    },
    {
      "cell_type": "code",
      "metadata": {
        "id": "jFImd2R8Abre",
        "colab_type": "code",
        "colab": {
          "base_uri": "https://localhost:8080/",
          "height": 297
        },
        "outputId": "905b2355-65d4-4aef-931a-c8228b4cfd92"
      },
      "source": [
        "sns.scatterplot(df['log_annual_income'],df['log_loan_amount'],hue = df['cluster'])"
      ],
      "execution_count": 57,
      "outputs": [
        {
          "output_type": "execute_result",
          "data": {
            "text/plain": [
              "<matplotlib.axes._subplots.AxesSubplot at 0x7f7ec59ed278>"
            ]
          },
          "metadata": {
            "tags": []
          },
          "execution_count": 57
        },
        {
          "output_type": "display_data",
          "data": {
            "image/png": "[encoded data removed]",
            "text/plain": [
              "<Figure size 432x288 with 1 Axes>"
            ]
          },
          "metadata": {
            "tags": [],
            "needs_background": "light"
          }
        }
      ]
    },
    {
      "cell_type": "markdown",
      "metadata": {
        "id": "8cF9bfXuBGZC",
        "colab_type": "text"
      },
      "source": [
        "### 2. Logistic Regression Classifier"
      ]
    },
    {
      "cell_type": "markdown",
      "metadata": {
        "id": "B4dHMHE9BLqv",
        "colab_type": "text"
      },
      "source": [
        "### splitting training and testing dataset"
      ]
    },
    {
      "cell_type": "code",
      "metadata": {
        "id": "ycq93XmKAjpt",
        "colab_type": "code",
        "colab": {}
      },
      "source": [
        "from sklearn.model_selection import train_test_split\n",
        "\n",
        "columns = ['Age','log_annual_income','log_loan_amount','LoanType_Business','LoanType_Home','LoanType_Personal']\n",
        "X = df[columns]\n",
        "y = df['Flag']\n",
        "\n",
        "X_train, X_test, y_train, y_test = train_test_split(X, y, test_size=0.3, random_state=30)"
      ],
      "execution_count": 0,
      "outputs": []
    },
    {
      "cell_type": "markdown",
      "metadata": {
        "id": "FOjxj7RWC0Uh",
        "colab_type": "text"
      },
      "source": [
        "### train the model"
      ]
    },
    {
      "cell_type": "code",
      "metadata": {
        "id": "eKMwO2ZZB3oH",
        "colab_type": "code",
        "colab": {}
      },
      "source": [
        "from sklearn.linear_model import LogisticRegression\n",
        "clf = LogisticRegression().fit(X_train, y_train)"
      ],
      "execution_count": 0,
      "outputs": []
    },
    {
      "cell_type": "markdown",
      "metadata": {
        "id": "IcfMIpFkDYOo",
        "colab_type": "text"
      },
      "source": [
        "### test the model"
      ]
    },
    {
      "cell_type": "code",
      "metadata": {
        "id": "AS9uNtnTDANt",
        "colab_type": "code",
        "colab": {}
      },
      "source": [
        "prediction = clf.predict(X_test)"
      ],
      "execution_count": 0,
      "outputs": []
    },
    {
      "cell_type": "markdown",
      "metadata": {
        "id": "PdUFsWMlDyBs",
        "colab_type": "text"
      },
      "source": [
        "### performance metrics"
      ]
    },
    {
      "cell_type": "code",
      "metadata": {
        "id": "tuKdx0MbDqhm",
        "colab_type": "code",
        "colab": {
          "base_uri": "https://localhost:8080/",
          "height": 138
        },
        "outputId": "8cc7c559-1f6c-4b16-b5d1-151ef8b46647"
      },
      "source": [
        "from sklearn.metrics import accuracy_score,precision_score,recall_score,f1_score, confusion_matrix\n",
        "\n",
        "# accuracy: (tp + tn) / (p + n)\n",
        "accuracy = accuracy_score(y_test, prediction)\n",
        "print('Accuracy: %f' % accuracy)\n",
        "# precision tp / (tp + fp)\n",
        "precision = precision_score(y_test, prediction)\n",
        "print('Precision: %f' % precision)\n",
        "# recall: tp / (tp + fn)\n",
        "recall = recall_score(y_test, prediction)\n",
        "print('Recall: %f' % recall)\n",
        "# f1: 2 tp / (2 tp + fp + fn)\n",
        "f1 = f1_score(y_test, prediction)\n",
        "print('F1 score: %f' % f1)\n",
        "print('Confusion Matrix\\n',confusion_matrix(y_test, prediction))"
      ],
      "execution_count": 73,
      "outputs": [
        {
          "output_type": "stream",
          "text": [
            "Accuracy: 0.714286\n",
            "Precision: 1.000000\n",
            "Recall: 0.600000\n",
            "F1 score: 0.750000\n",
            "Confusion Matrix\n",
            " [[2 0]\n",
            " [2 3]]\n"
          ],
          "name": "stdout"
        }
      ]
    },
    {
      "cell_type": "code",
      "metadata": {
        "id": "IVpYuYByE78p",
        "colab_type": "code",
        "colab": {}
      },
      "source": [
        ""
      ],
      "execution_count": 0,
      "outputs": []
    }
  ]
}